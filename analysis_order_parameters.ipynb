{
 "cells": [
  {
   "cell_type": "markdown",
   "id": "6b7e5075",
   "metadata": {},
   "source": [
    "# Order Parameters\n",
    "\n",
    "In this notebook, we analyze the order parameters of the cells.\n",
    "We will use the information available in the folder `dat_order_parameters` which has the information of the global order parameters during the simulations at each time step and for each seed.\n",
    "\n",
    "We define different order parameters in order to visualize how is the structure:\n",
    "\n",
    "- Nematic Order ($Q$): .\n",
    "\n",
    "- Label 2: A looser condition is used — cells are considered part of the same cluster if their overlap is at least 0.30 times the maximum."
   ]
  },
  {
   "cell_type": "markdown",
   "id": "e043278a",
   "metadata": {},
   "source": []
  }
 ],
 "metadata": {
  "language_info": {
   "name": "python"
  }
 },
 "nbformat": 4,
 "nbformat_minor": 5
}
