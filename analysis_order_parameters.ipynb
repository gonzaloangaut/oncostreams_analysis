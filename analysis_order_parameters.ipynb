{
 "cells": [
  {
   "cell_type": "markdown",
   "id": "6b7e5075",
   "metadata": {},
   "source": [
    "# Order Parameters\n",
    "\n",
    "In this notebook, we analyze the order parameters of the cells.\n",
    "We will use the information available in the folder `dat_order_parameters` which has the information of the global order parameters during the simulations at each time step and for each seed.\n",
    "\n",
    "We define different order parameters in order to visualize how is the structure:\n",
    "\n",
    "- Nematic Order ($Q$): The well-known nematic order calculated using the number of elongated cells as follows:\n",
    "\n",
    "$$ Q = \\frac{1}{N_e} \\sqrt{\\left(\\sum_{i=1}^{N_e} \\sin (2\\varphi_i)\\right)^2+\\left(\\sum_{i=1}^{N_e} \\cos (2\\varphi_i)\\right)^2}$$\n",
    "\n",
    "- Polar Order ($P$): The well-known polar order calculated using the number of elongated cells as follows:\n",
    "\n",
    "$$ P = \\frac{1}{N_e} \\sqrt{\\left(\\sum_{i=1}^{N_e} \\sin (\\varphi_i)\\right)^2+\\left(\\sum_{i=1}^{N_e} \\cos (\\varphi_i)\\right)^2}$$\n",
    "\n",
    "- Nematic Order 2 ($\\hat{Q}$): The same nematic parameter as before but dividing by all the cells (including the rounds):\n",
    "\n",
    "$$ \\hat{Q} = \\frac{1}{N} \\sqrt{\\left(\\sum_{i=1}^{N_e} \\sin (2\\varphi_i)\\right)^2+\\left(\\sum_{i=1}^{N_e} \\cos (2\\varphi_i)\\right)^2}$$\n",
    "\n",
    "- Polar Order 2 ($\\hat{P}$): The same polar parameter as before but dividing by all the cells (including the rounds):\n",
    "\n",
    "$$ \\hat{P} = \\frac{1}{N} \\sqrt{\\left(\\sum_{i=1}^{N_e} \\sin (\\varphi_i)\\right)^2+\\left(\\sum_{i=1}^{N_e} \\cos (\\varphi_i)\\right)^2}$$"
   ]
  },
  {
   "cell_type": "markdown",
   "id": "e043278a",
   "metadata": {},
   "source": [
    "## Order parameters vs time\n",
    "\n",
    "First of all, let's calculate how the order parameters change in time arriving to an steady state for a given density."
   ]
  },
  {
   "cell_type": "code",
   "execution_count": 1,
   "id": "67568019",
   "metadata": {},
   "outputs": [],
   "source": [
    "# import the libraries\n",
    "\n",
    "import numpy as np\n",
    "import pandas as pd\n",
    "import matplotlib.pyplot as plt\n",
    "import os"
   ]
  },
  {
   "cell_type": "markdown",
   "id": "c87396fb",
   "metadata": {},
   "source": [
    "We define some relevant parameters that remains constant during the simulations."
   ]
  },
  {
   "cell_type": "code",
   "execution_count": 2,
   "id": "299841b2",
   "metadata": {},
   "outputs": [],
   "source": [
    "nc = 10_000\n",
    "cell_area = np.pi\n",
    "max_step = 60_000\n",
    "step = 100\n",
    "delta_t = 0.05\n",
    "\n",
    "# All the seeds\n",
    "number_of_realizations=64\n",
    "\n",
    "seed_1 = 0x87351080E25CB0FAD77A44A3BE03B491\n",
    "rng_1 = np.random.default_rng(seed_1)\n",
    "\n",
    "rng_seed = rng_1.integers(\n",
    "            low=2**20, high=2**50, size=number_of_realizations\n",
    "        )"
   ]
  },
  {
   "cell_type": "code",
   "execution_count": null,
   "id": "16b62680",
   "metadata": {},
   "outputs": [],
   "source": []
  }
 ],
 "metadata": {
  "kernelspec": {
   "display_name": "oncostreams_analysis",
   "language": "python",
   "name": "python3"
  },
  "language_info": {
   "codemirror_mode": {
    "name": "ipython",
    "version": 3
   },
   "file_extension": ".py",
   "mimetype": "text/x-python",
   "name": "python",
   "nbconvert_exporter": "python",
   "pygments_lexer": "ipython3",
   "version": "3.12.3"
  }
 },
 "nbformat": 4,
 "nbformat_minor": 5
}
